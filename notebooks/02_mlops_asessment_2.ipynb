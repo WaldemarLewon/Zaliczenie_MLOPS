{
 "cells": [
  {
   "cell_type": "markdown",
   "id": "b0e9291a-2cb2-4c21-ba31-f362de7f300c",
   "metadata": {
    "editable": false,
    "slideshow": {
     "slide_type": "slide"
    },
    "tags": []
   },
   "source": [
    "## Version 2 - Boss/client feedback\n",
    "Oh no, the client has taken a look at our work and they are not happy.  \n",
    "They spend a lot of money on that data and we have thrown away two whole columns without good reason.  \n",
    "We need to update our feature engineering to include features based on the cabin and name columns,  \n",
    "which should also hopefully improve the performance since they feel 74% is a little too low to put into production.  \n",
    "Also the client doesn't know what to do with a .cbm file, they just want to be able to get new predictions whenever they get new data coming in.  \n",
    "Let's first implement the new features so that we use the dropped columns and then we can think about getting the predictions to the client somehow."
   ]
  },
  {
   "cell_type": "markdown",
   "id": "a2b2370d",
   "metadata": {},
   "source": []
  },
  {
   "cell_type": "code",
   "execution_count": null,
   "id": "61436bcf",
   "metadata": {},
   "outputs": [],
   "source": []
  },
  {
   "cell_type": "code",
   "execution_count": 1,
   "id": "5c50cb63-103b-4d57-aef5-493a43d5f200",
   "metadata": {
    "editable": true,
    "slideshow": {
     "slide_type": "subslide"
    },
    "tags": []
   },
   "outputs": [
    {
     "name": "stdout",
     "output_type": "stream",
     "text": [
      "Collecting cookiecutter-data-science\n",
      "  Downloading cookiecutter_data_science-2.3.0-py3-none-any.whl (10 kB)\n",
      "Collecting click\n",
      "  Downloading click-8.2.1-py3-none-any.whl (102 kB)\n",
      "     -------------------------------------- 102.2/102.2 kB 2.0 MB/s eta 0:00:00\n",
      "Collecting cookiecutter\n",
      "  Downloading cookiecutter-2.6.0-py3-none-any.whl (39 kB)\n",
      "Collecting tomlkit\n",
      "  Downloading tomlkit-0.13.3-py3-none-any.whl (38 kB)\n",
      "Requirement already satisfied: colorama in c:\\users\\treal\\appdata\\roaming\\python\\python311\\site-packages (from click->cookiecutter-data-science) (0.4.6)\n",
      "Collecting binaryornot>=0.4.4\n",
      "  Downloading binaryornot-0.4.4-py2.py3-none-any.whl (9.0 kB)\n",
      "Requirement already satisfied: Jinja2<4.0.0,>=2.7 in c:\\users\\treal\\appdata\\local\\programs\\python\\python311\\lib\\site-packages (from cookiecutter->cookiecutter-data-science) (3.1.6)\n",
      "Requirement already satisfied: pyyaml>=5.3.1 in c:\\users\\treal\\appdata\\local\\programs\\python\\python311\\lib\\site-packages (from cookiecutter->cookiecutter-data-science) (6.0.2)\n",
      "Requirement already satisfied: python-slugify>=4.0.0 in c:\\users\\treal\\appdata\\local\\programs\\python\\python311\\lib\\site-packages (from cookiecutter->cookiecutter-data-science) (8.0.4)\n",
      "Requirement already satisfied: requests>=2.23.0 in c:\\users\\treal\\appdata\\local\\programs\\python\\python311\\lib\\site-packages (from cookiecutter->cookiecutter-data-science) (2.32.4)\n",
      "Requirement already satisfied: arrow in c:\\users\\treal\\appdata\\local\\programs\\python\\python311\\lib\\site-packages (from cookiecutter->cookiecutter-data-science) (1.3.0)\n",
      "Collecting rich\n",
      "  Downloading rich-14.1.0-py3-none-any.whl (243 kB)\n",
      "     -------------------------------------- 243.4/243.4 kB 7.3 MB/s eta 0:00:00\n",
      "Collecting chardet>=3.0.2\n",
      "  Downloading chardet-5.2.0-py3-none-any.whl (199 kB)\n",
      "     ------------------------------------- 199.4/199.4 kB 11.8 MB/s eta 0:00:00\n",
      "Requirement already satisfied: MarkupSafe>=2.0 in c:\\users\\treal\\appdata\\local\\programs\\python\\python311\\lib\\site-packages (from Jinja2<4.0.0,>=2.7->cookiecutter->cookiecutter-data-science) (3.0.2)\n",
      "Requirement already satisfied: text-unidecode>=1.3 in c:\\users\\treal\\appdata\\local\\programs\\python\\python311\\lib\\site-packages (from python-slugify>=4.0.0->cookiecutter->cookiecutter-data-science) (1.3)\n",
      "Requirement already satisfied: charset_normalizer<4,>=2 in c:\\users\\treal\\appdata\\local\\programs\\python\\python311\\lib\\site-packages (from requests>=2.23.0->cookiecutter->cookiecutter-data-science) (3.4.2)\n",
      "Requirement already satisfied: idna<4,>=2.5 in c:\\users\\treal\\appdata\\local\\programs\\python\\python311\\lib\\site-packages (from requests>=2.23.0->cookiecutter->cookiecutter-data-science) (3.10)\n",
      "Requirement already satisfied: urllib3<3,>=1.21.1 in c:\\users\\treal\\appdata\\local\\programs\\python\\python311\\lib\\site-packages (from requests>=2.23.0->cookiecutter->cookiecutter-data-science) (2.5.0)\n",
      "Requirement already satisfied: certifi>=2017.4.17 in c:\\users\\treal\\appdata\\local\\programs\\python\\python311\\lib\\site-packages (from requests>=2.23.0->cookiecutter->cookiecutter-data-science) (2025.7.14)\n",
      "Requirement already satisfied: python-dateutil>=2.7.0 in c:\\users\\treal\\appdata\\roaming\\python\\python311\\site-packages (from arrow->cookiecutter->cookiecutter-data-science) (2.9.0.post0)\n",
      "Requirement already satisfied: types-python-dateutil>=2.8.10 in c:\\users\\treal\\appdata\\local\\programs\\python\\python311\\lib\\site-packages (from arrow->cookiecutter->cookiecutter-data-science) (2.9.0.20250708)\n",
      "Collecting markdown-it-py>=2.2.0\n",
      "  Downloading markdown_it_py-3.0.0-py3-none-any.whl (87 kB)\n",
      "     ---------------------------------------- 87.5/87.5 kB 5.2 MB/s eta 0:00:00\n",
      "Requirement already satisfied: pygments<3.0.0,>=2.13.0 in c:\\users\\treal\\appdata\\roaming\\python\\python311\\site-packages (from rich->cookiecutter->cookiecutter-data-science) (2.19.2)\n",
      "Collecting mdurl~=0.1\n",
      "  Downloading mdurl-0.1.2-py3-none-any.whl (10.0 kB)\n",
      "Requirement already satisfied: six>=1.5 in c:\\users\\treal\\appdata\\roaming\\python\\python311\\site-packages (from python-dateutil>=2.7.0->arrow->cookiecutter->cookiecutter-data-science) (1.17.0)\n",
      "Installing collected packages: tomlkit, mdurl, click, chardet, markdown-it-py, binaryornot, rich, cookiecutter, cookiecutter-data-science\n",
      "Successfully installed binaryornot-0.4.4 chardet-5.2.0 click-8.2.1 cookiecutter-2.6.0 cookiecutter-data-science-2.3.0 markdown-it-py-3.0.0 mdurl-0.1.2 rich-14.1.0 tomlkit-0.13.3\n",
      "Note: you may need to restart the kernel to use updated packages.\n"
     ]
    },
    {
     "name": "stderr",
     "output_type": "stream",
     "text": [
      "  WARNING: The script chardetect.exe is installed in 'c:\\Users\\treal\\AppData\\Local\\Programs\\Python\\Python311\\Scripts' which is not on PATH.\n",
      "  Consider adding this directory to PATH or, if you prefer to suppress this warning, use --no-warn-script-location.\n",
      "  WARNING: The script markdown-it.exe is installed in 'c:\\Users\\treal\\AppData\\Local\\Programs\\Python\\Python311\\Scripts' which is not on PATH.\n",
      "  Consider adding this directory to PATH or, if you prefer to suppress this warning, use --no-warn-script-location.\n",
      "  WARNING: The script cookiecutter.exe is installed in 'c:\\Users\\treal\\AppData\\Local\\Programs\\Python\\Python311\\Scripts' which is not on PATH.\n",
      "  Consider adding this directory to PATH or, if you prefer to suppress this warning, use --no-warn-script-location.\n",
      "  WARNING: The script ccds.exe is installed in 'c:\\Users\\treal\\AppData\\Local\\Programs\\Python\\Python311\\Scripts' which is not on PATH.\n",
      "  Consider adding this directory to PATH or, if you prefer to suppress this warning, use --no-warn-script-location.\n",
      "\n",
      "[notice] A new release of pip available: 22.3 -> 25.1.1\n",
      "[notice] To update, run: python.exe -m pip install --upgrade pip\n"
     ]
    }
   ],
   "source": [
    "%pip install cookiecutter-data-science"
   ]
  },
  {
   "cell_type": "markdown",
   "id": "9e74b72a-4dd5-4a2d-8b23-58443dd4c862",
   "metadata": {
    "editable": false,
    "slideshow": {
     "slide_type": "slide"
    },
    "tags": []
   },
   "source": [
    "Getting the data again."
   ]
  },
  {
   "cell_type": "code",
   "execution_count": 2,
   "id": "33798031-5b84-404d-8934-ff0e9d243db4",
   "metadata": {
    "editable": true,
    "slideshow": {
     "slide_type": "subslide"
    },
    "tags": []
   },
   "outputs": [
    {
     "name": "stdout",
     "output_type": "stream",
     "text": [
      "Dataset URL: https://www.kaggle.com/datasets/jayaantanaath/student-habits-vs-academic-performance\n"
     ]
    }
   ],
   "source": [
    "import os\n",
    "import zipfile\n",
    "from pathlib import Path\n",
    "from kaggle.api.kaggle_api_extended import KaggleApi\n",
    "\n",
    "api = KaggleApi()\n",
    "api.authenticate()\n",
    "\n",
    "# dataset = \"student-habits-vs-academic-performance\"\n",
    "# dataset_test = \"jayaantanaath/student-habits-vs-academic-performance\"\n",
    "# download_folder = Path(\"data/student-habits-vs-academic-performance\")\n",
    "# zip_path = download_folder / \"student-habits-vs-academic-performance.zip\"\n",
    "# download_folder.mkdir(parents=True, exist_ok=True)\n",
    "\n",
    "# api.competition_download_files(dataset, path=str(download_folder))\n",
    "# api.dataset_download_files(dataset_test, path=str(download_folder), unzip=True)\n",
    "\n",
    "dataset_name = \"jayaantanaath/student-habits-vs-academic-performance\" #tutaj wpisuje baze\n",
    "download_folder = Path(\"data/student-habits-vs-academic-performance\") #tutaj bedzie folder w ktorym bedzie dane\n",
    "download_folder.mkdir(parents=True, exist_ok=True)\n",
    "\n",
    "api.dataset_download_files(dataset_name, path=str(download_folder), unzip=True)\n",
    "\n",
    "\n",
    "# with zipfile.ZipFile(zip_path, \"r\") as zip_ref:\n",
    "#     zip_ref.extractall(str(download_folder))\n",
    "# os.remove(zip_path)"
   ]
  },
  {
   "cell_type": "code",
   "execution_count": 6,
   "id": "0a42389d-e7af-4a9c-bf0d-58017bf9688b",
   "metadata": {
    "editable": true,
    "slideshow": {
     "slide_type": "subslide"
    },
    "tags": []
   },
   "outputs": [
    {
     "name": "stdout",
     "output_type": "stream",
     "text": [
      " Volume in drive C has no label.\n",
      " Volume Serial Number is 67A3-0D30\n",
      "\n",
      " Directory of c:\\Users\\treal\\Desktop\\Zaliczenie_MLOPS\\notebooks\\data\\student-habits-vs-academic-performance\n",
      "\n",
      "26.07.2025  22:03    <DIR>          .\n",
      "26.07.2025  21:42    <DIR>          ..\n",
      "26.07.2025  22:03            73�663 student_habits_performance.csv\n",
      "               1 File(s)         73�663 bytes\n",
      "               2 Dir(s)  42�076�381�184 bytes free\n"
     ]
    }
   ],
   "source": [
    "!dir \"./data/student-habits-vs-academic-performance\""
   ]
  },
  {
   "cell_type": "code",
   "execution_count": 42,
   "id": "a9c06554",
   "metadata": {},
   "outputs": [
    {
     "data": {
      "text/html": [
       "<div>\n",
       "<style scoped>\n",
       "    .dataframe tbody tr th:only-of-type {\n",
       "        vertical-align: middle;\n",
       "    }\n",
       "\n",
       "    .dataframe tbody tr th {\n",
       "        vertical-align: top;\n",
       "    }\n",
       "\n",
       "    .dataframe thead th {\n",
       "        text-align: right;\n",
       "    }\n",
       "</style>\n",
       "<table border=\"1\" class=\"dataframe\">\n",
       "  <thead>\n",
       "    <tr style=\"text-align: right;\">\n",
       "      <th></th>\n",
       "      <th>age</th>\n",
       "      <th>gender</th>\n",
       "      <th>study_hours_per_day</th>\n",
       "      <th>social_media_hours</th>\n",
       "      <th>netflix_hours</th>\n",
       "      <th>part_time_job</th>\n",
       "      <th>attendance_percentage</th>\n",
       "      <th>sleep_hours</th>\n",
       "      <th>diet_quality</th>\n",
       "      <th>exercise_frequency</th>\n",
       "      <th>parental_education_level</th>\n",
       "      <th>internet_quality</th>\n",
       "      <th>mental_health_rating</th>\n",
       "      <th>extracurricular_participation</th>\n",
       "      <th>exam_score</th>\n",
       "    </tr>\n",
       "  </thead>\n",
       "  <tbody>\n",
       "    <tr>\n",
       "      <th>927</th>\n",
       "      <td>20</td>\n",
       "      <td>Female</td>\n",
       "      <td>3.3</td>\n",
       "      <td>4.0</td>\n",
       "      <td>1.9</td>\n",
       "      <td>No</td>\n",
       "      <td>67.1</td>\n",
       "      <td>6.8</td>\n",
       "      <td>Good</td>\n",
       "      <td>0</td>\n",
       "      <td>Bachelor</td>\n",
       "      <td>Good</td>\n",
       "      <td>2</td>\n",
       "      <td>No</td>\n",
       "      <td>43.5</td>\n",
       "    </tr>\n",
       "    <tr>\n",
       "      <th>156</th>\n",
       "      <td>23</td>\n",
       "      <td>Male</td>\n",
       "      <td>1.9</td>\n",
       "      <td>3.5</td>\n",
       "      <td>1.7</td>\n",
       "      <td>Yes</td>\n",
       "      <td>71.1</td>\n",
       "      <td>6.3</td>\n",
       "      <td>Fair</td>\n",
       "      <td>0</td>\n",
       "      <td>High School</td>\n",
       "      <td>Good</td>\n",
       "      <td>8</td>\n",
       "      <td>No</td>\n",
       "      <td>57.7</td>\n",
       "    </tr>\n",
       "    <tr>\n",
       "      <th>815</th>\n",
       "      <td>21</td>\n",
       "      <td>Female</td>\n",
       "      <td>2.9</td>\n",
       "      <td>2.6</td>\n",
       "      <td>2.0</td>\n",
       "      <td>No</td>\n",
       "      <td>72.7</td>\n",
       "      <td>5.6</td>\n",
       "      <td>Poor</td>\n",
       "      <td>1</td>\n",
       "      <td>Master</td>\n",
       "      <td>Good</td>\n",
       "      <td>1</td>\n",
       "      <td>No</td>\n",
       "      <td>43.5</td>\n",
       "    </tr>\n",
       "    <tr>\n",
       "      <th>371</th>\n",
       "      <td>24</td>\n",
       "      <td>Male</td>\n",
       "      <td>0.8</td>\n",
       "      <td>1.4</td>\n",
       "      <td>3.8</td>\n",
       "      <td>Yes</td>\n",
       "      <td>76.5</td>\n",
       "      <td>7.5</td>\n",
       "      <td>Good</td>\n",
       "      <td>2</td>\n",
       "      <td>Bachelor</td>\n",
       "      <td>Average</td>\n",
       "      <td>10</td>\n",
       "      <td>No</td>\n",
       "      <td>36.0</td>\n",
       "    </tr>\n",
       "    <tr>\n",
       "      <th>901</th>\n",
       "      <td>20</td>\n",
       "      <td>Male</td>\n",
       "      <td>3.3</td>\n",
       "      <td>2.1</td>\n",
       "      <td>2.1</td>\n",
       "      <td>No</td>\n",
       "      <td>99.4</td>\n",
       "      <td>4.4</td>\n",
       "      <td>Fair</td>\n",
       "      <td>6</td>\n",
       "      <td>High School</td>\n",
       "      <td>Good</td>\n",
       "      <td>3</td>\n",
       "      <td>Yes</td>\n",
       "      <td>71.4</td>\n",
       "    </tr>\n",
       "    <tr>\n",
       "      <th>929</th>\n",
       "      <td>17</td>\n",
       "      <td>Female</td>\n",
       "      <td>5.7</td>\n",
       "      <td>2.7</td>\n",
       "      <td>1.4</td>\n",
       "      <td>No</td>\n",
       "      <td>79.0</td>\n",
       "      <td>7.7</td>\n",
       "      <td>Good</td>\n",
       "      <td>0</td>\n",
       "      <td>Master</td>\n",
       "      <td>Average</td>\n",
       "      <td>8</td>\n",
       "      <td>Yes</td>\n",
       "      <td>89.8</td>\n",
       "    </tr>\n",
       "    <tr>\n",
       "      <th>290</th>\n",
       "      <td>17</td>\n",
       "      <td>Male</td>\n",
       "      <td>4.0</td>\n",
       "      <td>1.4</td>\n",
       "      <td>1.3</td>\n",
       "      <td>No</td>\n",
       "      <td>80.7</td>\n",
       "      <td>4.8</td>\n",
       "      <td>Fair</td>\n",
       "      <td>2</td>\n",
       "      <td>NaN</td>\n",
       "      <td>Poor</td>\n",
       "      <td>8</td>\n",
       "      <td>No</td>\n",
       "      <td>75.9</td>\n",
       "    </tr>\n",
       "    <tr>\n",
       "      <th>344</th>\n",
       "      <td>19</td>\n",
       "      <td>Male</td>\n",
       "      <td>3.2</td>\n",
       "      <td>1.2</td>\n",
       "      <td>1.2</td>\n",
       "      <td>No</td>\n",
       "      <td>78.6</td>\n",
       "      <td>6.6</td>\n",
       "      <td>Fair</td>\n",
       "      <td>2</td>\n",
       "      <td>High School</td>\n",
       "      <td>Poor</td>\n",
       "      <td>10</td>\n",
       "      <td>Yes</td>\n",
       "      <td>81.7</td>\n",
       "    </tr>\n",
       "    <tr>\n",
       "      <th>47</th>\n",
       "      <td>23</td>\n",
       "      <td>Female</td>\n",
       "      <td>2.5</td>\n",
       "      <td>2.9</td>\n",
       "      <td>2.7</td>\n",
       "      <td>No</td>\n",
       "      <td>83.5</td>\n",
       "      <td>7.0</td>\n",
       "      <td>Good</td>\n",
       "      <td>4</td>\n",
       "      <td>NaN</td>\n",
       "      <td>Good</td>\n",
       "      <td>8</td>\n",
       "      <td>Yes</td>\n",
       "      <td>59.7</td>\n",
       "    </tr>\n",
       "    <tr>\n",
       "      <th>980</th>\n",
       "      <td>20</td>\n",
       "      <td>Female</td>\n",
       "      <td>3.7</td>\n",
       "      <td>3.5</td>\n",
       "      <td>2.5</td>\n",
       "      <td>No</td>\n",
       "      <td>93.0</td>\n",
       "      <td>5.2</td>\n",
       "      <td>Poor</td>\n",
       "      <td>6</td>\n",
       "      <td>High School</td>\n",
       "      <td>Good</td>\n",
       "      <td>10</td>\n",
       "      <td>Yes</td>\n",
       "      <td>81.0</td>\n",
       "    </tr>\n",
       "  </tbody>\n",
       "</table>\n",
       "</div>"
      ],
      "text/plain": [
       "     age  gender  study_hours_per_day  social_media_hours  netflix_hours  \\\n",
       "927   20  Female                  3.3                 4.0            1.9   \n",
       "156   23    Male                  1.9                 3.5            1.7   \n",
       "815   21  Female                  2.9                 2.6            2.0   \n",
       "371   24    Male                  0.8                 1.4            3.8   \n",
       "901   20    Male                  3.3                 2.1            2.1   \n",
       "929   17  Female                  5.7                 2.7            1.4   \n",
       "290   17    Male                  4.0                 1.4            1.3   \n",
       "344   19    Male                  3.2                 1.2            1.2   \n",
       "47    23  Female                  2.5                 2.9            2.7   \n",
       "980   20  Female                  3.7                 3.5            2.5   \n",
       "\n",
       "    part_time_job  attendance_percentage  sleep_hours diet_quality  \\\n",
       "927            No                   67.1          6.8         Good   \n",
       "156           Yes                   71.1          6.3         Fair   \n",
       "815            No                   72.7          5.6         Poor   \n",
       "371           Yes                   76.5          7.5         Good   \n",
       "901            No                   99.4          4.4         Fair   \n",
       "929            No                   79.0          7.7         Good   \n",
       "290            No                   80.7          4.8         Fair   \n",
       "344            No                   78.6          6.6         Fair   \n",
       "47             No                   83.5          7.0         Good   \n",
       "980            No                   93.0          5.2         Poor   \n",
       "\n",
       "     exercise_frequency parental_education_level internet_quality  \\\n",
       "927                   0                 Bachelor             Good   \n",
       "156                   0              High School             Good   \n",
       "815                   1                   Master             Good   \n",
       "371                   2                 Bachelor          Average   \n",
       "901                   6              High School             Good   \n",
       "929                   0                   Master          Average   \n",
       "290                   2                      NaN             Poor   \n",
       "344                   2              High School             Poor   \n",
       "47                    4                      NaN             Good   \n",
       "980                   6              High School             Good   \n",
       "\n",
       "     mental_health_rating extracurricular_participation  exam_score  \n",
       "927                     2                            No        43.5  \n",
       "156                     8                            No        57.7  \n",
       "815                     1                            No        43.5  \n",
       "371                    10                            No        36.0  \n",
       "901                     3                           Yes        71.4  \n",
       "929                     8                           Yes        89.8  \n",
       "290                     8                            No        75.9  \n",
       "344                    10                           Yes        81.7  \n",
       "47                      8                           Yes        59.7  \n",
       "980                    10                           Yes        81.0  "
      ]
     },
     "execution_count": 42,
     "metadata": {},
     "output_type": "execute_result"
    }
   ],
   "source": [
    "import pandas as pd\n",
    "\n",
    "df_train = pd.read_csv(download_folder / \"student_habits_performance.csv\")\n",
    "df_ids = df_train.pop(\"student_id\")  # set aside student_id\n",
    "\n",
    "df_train.sample(10)"
   ]
  },
  {
   "cell_type": "code",
   "execution_count": 43,
   "id": "9e134b73",
   "metadata": {},
   "outputs": [],
   "source": [
    "df_train['pass'] = (df_train['exam_score']>70).astype(int)"
   ]
  },
  {
   "cell_type": "markdown",
   "id": "799355dc-ec05-4c0f-84c0-b4e46b390d45",
   "metadata": {
    "editable": false,
    "slideshow": {
     "slide_type": "slide"
    },
    "tags": []
   },
   "source": [
    "Quick regex match on the titles"
   ]
  },
  {
   "cell_type": "markdown",
   "id": "9117e6a6-9751-401d-ae68-ef89f68b5597",
   "metadata": {
    "editable": false,
    "slideshow": {
     "slide_type": "subslide"
    },
    "tags": []
   },
   "source": [
    "Looks about right:"
   ]
  },
  {
   "cell_type": "code",
   "execution_count": 44,
   "id": "9fdfb560-31d7-42e8-8f6a-8a1f206bad56",
   "metadata": {
    "editable": true,
    "slideshow": {
     "slide_type": "subslide"
    },
    "tags": []
   },
   "outputs": [
    {
     "data": {
      "text/plain": [
       "array(['Female', 'Male', 'Other'], dtype=object)"
      ]
     },
     "execution_count": 44,
     "metadata": {},
     "output_type": "execute_result"
    }
   ],
   "source": [
    "df_train[\"gender\"].unique()"
   ]
  },
  {
   "cell_type": "markdown",
   "id": "5363fac1-5136-47f3-9a55-f8163812f8da",
   "metadata": {
    "editable": false,
    "slideshow": {
     "slide_type": "slide"
    },
    "tags": []
   },
   "source": [
    "And for the Cabin we split into deck and cabin number:"
   ]
  },
  {
   "cell_type": "markdown",
   "id": "65b14cc6-b333-497f-922c-a321f50dfb44",
   "metadata": {
    "editable": false,
    "slideshow": {
     "slide_type": "slide"
    },
    "tags": []
   },
   "source": [
    "Fill remaining nans:"
   ]
  },
  {
   "cell_type": "markdown",
   "id": "565124f5-e8ae-4890-856c-bf9368730d7c",
   "metadata": {
    "editable": false,
    "slideshow": {
     "slide_type": "slide"
    },
    "tags": []
   },
   "source": [
    "Get indices for categorical columns now including Title and Deck (CabinNumber is numerical):"
   ]
  },
  {
   "cell_type": "code",
   "execution_count": 45,
   "id": "25939d38-d8f1-409d-99a5-5422918d46b6",
   "metadata": {
    "editable": true,
    "slideshow": {
     "slide_type": "subslide"
    },
    "tags": []
   },
   "outputs": [
    {
     "data": {
      "text/plain": [
       "[1, 5, 8, 10, 11, 13]"
      ]
     },
     "execution_count": 45,
     "metadata": {},
     "output_type": "execute_result"
    }
   ],
   "source": [
    "categorical = [\n",
    "    \"gender\", \n",
    "    \"part_time_job\", \n",
    "    \"diet_quality\" ,\n",
    "    \"parental_education_level\" ,\n",
    "    \"internet_quality\" ,\n",
    "    \"extracurricular_participation\" ,\n",
    "]\n",
    "\n",
    "y_train = df_train.pop(\"pass\")\n",
    "X_train = df_train\n",
    "\n",
    "categorical_indices = [X_train.columns.get_loc(col) for col in categorical if col in X_train.columns]\n",
    "categorical_indices"
   ]
  },
  {
   "cell_type": "markdown",
   "id": "37229885-44d0-479e-81d0-0dcae5bfd507",
   "metadata": {
    "editable": false,
    "slideshow": {
     "slide_type": "slide"
    },
    "tags": []
   },
   "source": [
    "And run the hyperparameter optimization:"
   ]
  },
  {
   "cell_type": "code",
   "execution_count": 46,
   "id": "4891bf8c-64b0-4735-8d2f-03425d886925",
   "metadata": {
    "editable": true,
    "slideshow": {
     "slide_type": "subslide"
    },
    "tags": []
   },
   "outputs": [
    {
     "name": "stdout",
     "output_type": "stream",
     "text": [
      "Best Parameters: {'depth': 9, 'learning_rate': 0.1989710549297809, 'iterations': 225, 'l2_leaf_reg': 5.203681083589466, 'bagging_temperature': 0.6748870052060675, 'random_strength': 0.27921747675539976}\n"
     ]
    }
   ],
   "source": [
    "import joblib\n",
    "import optuna\n",
    "from sklearn.model_selection import train_test_split\n",
    "from catboost import CatBoostClassifier, Pool, cv\n",
    "\n",
    "outfolder = Path(\"..\\\\results\")\n",
    "outfolder.mkdir(parents=True, exist_ok=True)\n",
    "\n",
    "best_params_path = outfolder / \"best_params.pkl\"\n",
    "\n",
    "if not best_params_path.is_file():\n",
    "    X_train_opt, X_val_opt, y_train_opt, y_val_opt = train_test_split(X_train, y_train, test_size=0.25, random_state=42)\n",
    "    \n",
    "    def objective(trial):\n",
    "        params = {\n",
    "            \"depth\": trial.suggest_int(\"depth\", 2, 10),\n",
    "            \"learning_rate\": trial.suggest_float(\"learning_rate\", 1e-4, 0.3),\n",
    "            \"iterations\": trial.suggest_int(\"iterations\", 100, 300),\n",
    "            \"l2_leaf_reg\": trial.suggest_float(\"l2_leaf_reg\", 1e-5, 100.0, log=True),\n",
    "            \"bagging_temperature\": trial.suggest_float(\"bagging_temperature\", 0.01, 1),\n",
    "            \"random_strength\": trial.suggest_float(\"random_strength\", 1e-5, 100.0, log=True)\n",
    "        }\n",
    "        model = CatBoostClassifier(**params, verbose=0)\n",
    "        model.fit(X_train_opt, y_train_opt, eval_set=(X_val_opt, y_val_opt), cat_features=categorical_indices, early_stopping_rounds=50)\n",
    "        return model.get_best_score()[\"validation\"][\"Logloss\"]\n",
    "    study = optuna.create_study(direction=\"minimize\")\n",
    "    study.optimize(objective, n_trials=50)\n",
    "    \n",
    "    joblib.dump(study.best_params, best_params_path)\n",
    "    params = study.best_params\n",
    "else:\n",
    "    params = joblib.load(best_params_path)\n",
    "print(\"Best Parameters:\", params)"
   ]
  },
  {
   "cell_type": "markdown",
   "id": "8af73d1c-bb53-47e5-bc84-293972e6837c",
   "metadata": {
    "editable": false,
    "slideshow": {
     "slide_type": "slide"
    },
    "tags": []
   },
   "source": [
    "Do cross validation again:"
   ]
  },
  {
   "cell_type": "code",
   "execution_count": 47,
   "id": "df17d5a9",
   "metadata": {},
   "outputs": [
    {
     "name": "stdout",
     "output_type": "stream",
     "text": [
      "age                                int64\n",
      "gender                            object\n",
      "study_hours_per_day              float64\n",
      "social_media_hours               float64\n",
      "netflix_hours                    float64\n",
      "part_time_job                     object\n",
      "attendance_percentage            float64\n",
      "sleep_hours                      float64\n",
      "diet_quality                      object\n",
      "exercise_frequency                 int64\n",
      "parental_education_level          object\n",
      "internet_quality                  object\n",
      "mental_health_rating               int64\n",
      "extracurricular_participation     object\n",
      "exam_score                       float64\n",
      "dtype: object\n"
     ]
    }
   ],
   "source": [
    "print(X_train.dtypes)"
   ]
  },
  {
   "cell_type": "code",
   "execution_count": 48,
   "id": "42e8971d",
   "metadata": {},
   "outputs": [
    {
     "name": "stdout",
     "output_type": "stream",
     "text": [
      "Kolumny kategoryczne: ['gender', 'part_time_job', 'diet_quality', 'parental_education_level', 'internet_quality', 'extracurricular_participation']\n"
     ]
    }
   ],
   "source": [
    "cat_columns = X_train.select_dtypes(include=[\"object\", \"category\"]).columns.tolist()\n",
    "print(\"Kolumny kategoryczne:\", cat_columns)"
   ]
  },
  {
   "cell_type": "code",
   "execution_count": 53,
   "id": "f54fd995-ebc1-4adc-86c9-595fe90243cc",
   "metadata": {
    "editable": true,
    "scrolled": true,
    "slideshow": {
     "slide_type": "subslide"
    },
    "tags": []
   },
   "outputs": [
    {
     "name": "stdout",
     "output_type": "stream",
     "text": [
      "Training on fold [0/5]\n",
      "\n",
      "bestTest = 1\n",
      "bestIteration = 2\n",
      "\n",
      "Training on fold [1/5]\n",
      "\n",
      "bestTest = 1\n",
      "bestIteration = 1\n",
      "\n",
      "Training on fold [2/5]\n",
      "\n",
      "bestTest = 1\n",
      "bestIteration = 2\n",
      "\n",
      "Training on fold [3/5]\n",
      "\n",
      "bestTest = 1\n",
      "bestIteration = 12\n",
      "\n",
      "Training on fold [4/5]\n",
      "\n",
      "bestTest = 1\n",
      "bestIteration = 0\n",
      "\n"
     ]
    }
   ],
   "source": [
    "from catboost import Pool, cv\n",
    "\n",
    "# tylko obiekty tekstowe i kategoryczne\n",
    "cat_columns = X_train.select_dtypes(include=[\"object\", \"category\"]).columns.tolist()\n",
    "X_train[cat_columns] = X_train[cat_columns].astype(str)\n",
    "\n",
    "# dane do Pool\n",
    "data = Pool(X_train, y_train, cat_features=cat_columns)\n",
    "\n",
    "# parametry\n",
    "params = {\n",
    "    \"eval_metric\": \"F1\",\n",
    "    \"loss_function\": \"Logloss\",\n",
    "    \"iterations\": 100,\n",
    "    \"random_seed\": 42\n",
    "}\n",
    "\n",
    "# cross-validation\n",
    "cv_results = cv(\n",
    "    params=params,\n",
    "    pool=data,\n",
    "    fold_count=5,\n",
    "    partition_random_seed=42,\n",
    "    shuffle=True,\n",
    "    verbose=False\n",
    ")\n",
    "\n",
    "cv_results.to_csv(outfolder / \"cv_results_zaliczeniowe_v2.csv\", index=False)"
   ]
  },
  {
   "cell_type": "markdown",
   "id": "9c2f4247-6cbf-4528-ba59-bf4f375dad64",
   "metadata": {
    "editable": false,
    "slideshow": {
     "slide_type": "slide"
    },
    "tags": []
   },
   "source": [
    "And get the performance plots:"
   ]
  },
  {
   "cell_type": "code",
   "execution_count": 54,
   "id": "d9ccf0db-b9f1-4d33-a3a2-8136c6df261d",
   "metadata": {
    "editable": true,
    "slideshow": {
     "slide_type": "subslide"
    },
    "tags": []
   },
   "outputs": [],
   "source": [
    "import plotly.graph_objects as go\n",
    "\n",
    "# Create figure\n",
    "fig = go.Figure()\n",
    "\n",
    "# Add mean performance line\n",
    "fig.add_trace(\n",
    "    go.Scatter(\n",
    "        x=cv_results[\"iterations\"], y=cv_results[\"test-F1-mean\"], mode=\"lines\", name=\"Mean F1 Score\", line=dict(color=\"blue\")\n",
    "    )\n",
    ")\n",
    "\n",
    "# Add shaded error region\n",
    "fig.add_trace(\n",
    "    go.Scatter(\n",
    "        x=pd.concat([cv_results[\"iterations\"], cv_results[\"iterations\"][::-1]]),\n",
    "        y=pd.concat([cv_results[\"test-F1-mean\"]+cv_results[\"test-F1-std\"], \n",
    "                     cv_results[\"test-F1-mean\"]-cv_results[\"test-F1-std\"]]),\n",
    "        fill=\"toself\", \n",
    "        fillcolor=\"rgba(0, 0, 255, 0.2)\",\n",
    "        line=dict(color=\"rgba(255, 255, 255, 0)\"),\n",
    "        showlegend=False\n",
    "    )\n",
    ")\n",
    "\n",
    "# Customize layout\n",
    "fig.update_layout(\n",
    "    title=\"Cross-Validation (N=5) Mean F1 score with Error Bands\",\n",
    "    xaxis_title=\"Training Steps\",\n",
    "    yaxis_title=\"Performance Score\",\n",
    "    template=\"plotly_white\",\n",
    "    yaxis=dict(range=[0.5, 1])\n",
    ")\n",
    "\n",
    "fig.write_image(outfolder / \"test_f1_v2_zaliczeniowe.png\")"
   ]
  },
  {
   "cell_type": "code",
   "execution_count": 55,
   "id": "a20450e7-7e20-4a96-b855-d10b14fcb10b",
   "metadata": {
    "editable": true,
    "slideshow": {
     "slide_type": "subslide"
    },
    "tags": []
   },
   "outputs": [],
   "source": [
    "import plotly.graph_objects as go\n",
    "\n",
    "# Create figure\n",
    "fig = go.Figure()\n",
    "\n",
    "# Add mean performance line\n",
    "fig.add_trace(\n",
    "    go.Scatter(\n",
    "        x=cv_results[\"iterations\"], y=cv_results[\"test-Logloss-mean\"], mode=\"lines\", name=\"Mean logloss\", line=dict(color=\"blue\")\n",
    "    )\n",
    ")\n",
    "\n",
    "# Add shaded error region\n",
    "fig.add_trace(\n",
    "    go.Scatter(\n",
    "        x=pd.concat([cv_results[\"iterations\"], cv_results[\"iterations\"][::-1]]),\n",
    "        y=pd.concat([cv_results[\"test-Logloss-mean\"]+cv_results[\"test-Logloss-std\"], \n",
    "                     cv_results[\"test-Logloss-mean\"]-cv_results[\"test-Logloss-std\"]]),\n",
    "        fill=\"toself\", \n",
    "        fillcolor=\"rgba(0, 0, 255, 0.2)\",\n",
    "        line=dict(color=\"rgba(255, 255, 255, 0)\"),\n",
    "        showlegend=False\n",
    "    )\n",
    ")\n",
    "\n",
    "# Customize layout\n",
    "fig.update_layout(\n",
    "    title=\"Cross-Validation (N=5) Mean Logloss with Error Bands\",\n",
    "    xaxis_title=\"Training Steps\",\n",
    "    yaxis_title=\"Logloss\",\n",
    "    template=\"plotly_white\"\n",
    ")\n",
    "\n",
    "#fig.show()\n",
    "\n",
    "fig.write_image(outfolder / \"test_logloss_v2_zaliczeniowe.png\")"
   ]
  },
  {
   "cell_type": "markdown",
   "id": "660b208e-b2b8-4bd2-ae70-6f75b550d65d",
   "metadata": {
    "editable": false,
    "slideshow": {
     "slide_type": "slide"
    },
    "tags": []
   },
   "source": [
    "Fit model on full dataset:"
   ]
  },
  {
   "cell_type": "code",
   "execution_count": 86,
   "id": "a8059c1d-ee28-4580-9d5d-9a9c4eb91a4b",
   "metadata": {
    "editable": true,
    "scrolled": true,
    "slideshow": {
     "slide_type": "subslide"
    },
    "tags": []
   },
   "outputs": [
    {
     "data": {
      "application/vnd.jupyter.widget-view+json": {
       "model_id": "8295390f91b24e64a8550864a2660cf1",
       "version_major": 2,
       "version_minor": 0
      },
      "text/plain": [
       "MetricVisualizer(layout=Layout(align_self='stretch', height='500px'))"
      ]
     },
     "metadata": {},
     "output_type": "display_data"
    },
    {
     "name": "stdout",
     "output_type": "stream",
     "text": [
      "Learning rate set to 0.010302\n",
      "0:\tlearn: 0.6686712\ttotal: 19.6ms\tremaining: 19.6s\n",
      "50:\tlearn: 0.1057615\ttotal: 777ms\tremaining: 14.5s\n",
      "100:\tlearn: 0.0250611\ttotal: 1.53s\tremaining: 13.7s\n",
      "150:\tlearn: 0.0100173\ttotal: 2.38s\tremaining: 13.4s\n",
      "200:\tlearn: 0.0054281\ttotal: 3.27s\tremaining: 13s\n",
      "250:\tlearn: 0.0036479\ttotal: 4.18s\tremaining: 12.5s\n",
      "300:\tlearn: 0.0026483\ttotal: 5.06s\tremaining: 11.8s\n",
      "350:\tlearn: 0.0020502\ttotal: 6s\tremaining: 11.1s\n",
      "400:\tlearn: 0.0016749\ttotal: 6.91s\tremaining: 10.3s\n",
      "450:\tlearn: 0.0014343\ttotal: 7.83s\tremaining: 9.53s\n",
      "500:\tlearn: 0.0012821\ttotal: 8.65s\tremaining: 8.62s\n",
      "550:\tlearn: 0.0011239\ttotal: 9.58s\tremaining: 7.8s\n",
      "600:\tlearn: 0.0010147\ttotal: 10.4s\tremaining: 6.89s\n",
      "650:\tlearn: 0.0009202\ttotal: 11.2s\tremaining: 6.03s\n",
      "700:\tlearn: 0.0008699\ttotal: 12.1s\tremaining: 5.18s\n",
      "750:\tlearn: 0.0008245\ttotal: 13.1s\tremaining: 4.33s\n",
      "800:\tlearn: 0.0007978\ttotal: 14s\tremaining: 3.47s\n",
      "850:\tlearn: 0.0007762\ttotal: 14.9s\tremaining: 2.61s\n",
      "900:\tlearn: 0.0007725\ttotal: 15.8s\tremaining: 1.74s\n",
      "950:\tlearn: 0.0007668\ttotal: 16.8s\tremaining: 863ms\n",
      "999:\tlearn: 0.0007657\ttotal: 17.7s\tremaining: 0us\n"
     ]
    },
    {
     "data": {
      "text/plain": [
       "['..\\\\results\\\\model_params_v2_zaliczeniowe.pkl']"
      ]
     },
     "execution_count": 86,
     "metadata": {},
     "output_type": "execute_result"
    }
   ],
   "source": [
    "model.fit(\n",
    "    X_train,\n",
    "    y_train,\n",
    "    verbose_eval=50,\n",
    "    early_stopping_rounds=50,\n",
    "    cat_features=categorical_indices,\n",
    "    use_best_model=False,\n",
    "    plot=True\n",
    ")\n",
    "\n",
    "model.save_model(outfolder / 'catboost_model_student_habits_zaliczeniowe.cbm')\n",
    "joblib.dump(params, outfolder / 'model_params_v2_zaliczeniowe.pkl')"
   ]
  },
  {
   "cell_type": "markdown",
   "id": "11d6658f-ac2b-4a8f-a872-b66bbcf4b19b",
   "metadata": {
    "editable": false,
    "slideshow": {
     "slide_type": "slide"
    },
    "tags": []
   },
   "source": [
    "And now to copy paste the train preprocessing code to preprocess the test set, and run a prediction:"
   ]
  },
  {
   "cell_type": "code",
   "execution_count": 95,
   "id": "ea7b6f53-6b16-453f-b0b8-336f0b8ceee1",
   "metadata": {
    "editable": true,
    "slideshow": {
     "slide_type": "subslide"
    },
    "tags": []
   },
   "outputs": [],
   "source": [
    "from pathlib import Path\n",
    "import pandas as pd\n",
    "import re\n",
    "from catboost import CatBoostClassifier\n",
    "\n",
    "from catboost import Pool\n",
    "\n",
    "# Utworzenie Poola z informacją o cechach kategorycznych\n",
    "test_pool = Pool(data=df_test, cat_features=cat_cols)\n",
    "\n",
    "# Wczytanie danych testowych\n",
    "df_test = pd.read_csv(\"c:/users/treal/desktop/Zaliczenie_MLOPS/notebooks/data/student_habits_test_25.csv\")\n",
    "\n",
    "# Wydzielenie identyfikatora (jeśli 'gender' pełni taką rolę)\n",
    "df_test_id = df_test.pop(\"gender\")\n",
    "\n",
    "# Uzupełnienie braków (na podstawie X_train)\n",
    "df_test = df_test.fillna({\n",
    "    \"Embarked\": \"N\",\n",
    "    \"age\": X_train[\"age\"].mean()  # jeśli kolumna 'age' nadal istnieje\n",
    "})\n",
    "\n",
    "# Usuń zbędne kolumny (jeśli są nadal obecne)\n",
    "for col in [\"gender\", \"age\"]:\n",
    "    if col in df_test.columns:\n",
    "        df_test.drop(columns=[col], inplace=True)\n",
    "\n",
    "# Uzupełnienie brakujących kolumn względem X_train\n",
    "missing_cols = set(X_train.columns) - set(df_test.columns)\n",
    "for col in missing_cols:\n",
    "    df_test[col] = 0\n",
    "\n",
    "# Dopasowanie kolejności kolumn\n",
    "df_test = df_test[X_train.columns]\n",
    "\n",
    "# Wymuszenie typów string dla cech kategorycznych\n",
    "cat_cols = X_train.select_dtypes(include=[\"object\", \"category\"]).columns.tolist()\n",
    "df_test[cat_cols] = df_test[cat_cols].astype(str)\n",
    "\n",
    "# Wczytanie modelu\n",
    "model = CatBoostClassifier()\n",
    "model.load_model(\"c:/users/treal/desktop/Zaliczenie_MLOPS/results/catboost_model_students_habits_performance_zaliczeniowe.cbm\")\n",
    "\n",
    "# Predykcja\n",
    "preds = model.predict(test_pool)\n",
    "\n",
    "\n",
    "# Zapis wyników\n",
    "output = pd.DataFrame({\n",
    "    \"student_id\": df_test_id,\n",
    "    \"prediction\": preds.ravel()\n",
    "})\n",
    "output.to_csv(\"predictions_zaliczenie.csv\", index=False)\n"
   ]
  },
  {
   "cell_type": "code",
   "execution_count": 99,
   "id": "e74f9e3e-c213-4aa7-a896-85e40ab68615",
   "metadata": {
    "editable": true,
    "slideshow": {
     "slide_type": "subslide"
    },
    "tags": []
   },
   "outputs": [],
   "source": [
    "from catboost import Pool\n",
    "\n",
    "cat_cols = X_train.select_dtypes(include=[\"object\", \"category\"]).columns.tolist()\n",
    "test_pool = Pool(data=df_test[X_train.columns], cat_features=cat_cols)\n",
    "preds = model.predict(test_pool)\n"
   ]
  },
  {
   "cell_type": "markdown",
   "id": "fca71205-8486-4e32-9875-efdd5c627a94",
   "metadata": {
    "editable": false,
    "slideshow": {
     "slide_type": "slide"
    },
    "tags": []
   },
   "source": [
    "Get the shapley overview plot showing the importance of the new features as well:"
   ]
  },
  {
   "cell_type": "code",
   "execution_count": 101,
   "id": "e42c6466-ce53-4a6f-a230-ee7599adfa45",
   "metadata": {
    "editable": true,
    "slideshow": {
     "slide_type": "subslide"
    },
    "tags": []
   },
   "outputs": [
    {
     "data": {
      "image/png": "[encoded data removed]",
      "text/plain": [
       "<Figure size 800x750 with 2 Axes>"
      ]
     },
     "metadata": {},
     "output_type": "display_data"
    }
   ],
   "source": [
    "import shap\n",
    "import matplotlib.pyplot as plt\n",
    "from catboost import Pool\n",
    "\n",
    "# Lista cech kategorycznych\n",
    "cat_cols = X_train.select_dtypes(include=[\"object\", \"category\"]).columns.tolist()\n",
    "\n",
    "# Pool do predykcji SHAP\n",
    "test_pool = Pool(df_test[X_train.columns], cat_features=cat_cols)\n",
    "\n",
    "# SHAP TreeExplainer i wartości\n",
    "explainer = shap.TreeExplainer(model)\n",
    "shap_values = explainer.shap_values(test_pool)\n",
    "\n",
    "# Wykres\n",
    "shap.summary_plot(shap_values, df_test[X_train.columns], show=False)\n",
    "plt.savefig(outfolder / \"test_shap_overall_v2_zaliczeniowe.png\")\n"
   ]
  },
  {
   "cell_type": "markdown",
   "id": "d3053685-a2c1-42fc-9dd7-b19b3166b5ae",
   "metadata": {
    "editable": false,
    "slideshow": {
     "slide_type": "slide"
    },
    "tags": []
   },
   "source": [
    "And finally let's get the score on the test set:"
   ]
  },
  {
   "cell_type": "code",
   "execution_count": 103,
   "id": "2a66930d-3abd-4b45-8c44-47892205fd28",
   "metadata": {
    "editable": true,
    "slideshow": {
     "slide_type": "subslide"
    },
    "tags": []
   },
   "outputs": [],
   "source": [
    "df_test[\"Studentid\"] = df_test_id\n",
    "df_test[\"Pass\"] = preds\n",
    "\n",
    "df_test[[\"Studentid\", \"Pass\"]].to_csv(outfolder / \"predictions_v2_zaliczeniowe.csv\", index=False)"
   ]
  }
 ],
 "metadata": {
  "kernelspec": {
   "display_name": "Python 3",
   "language": "python",
   "name": "python3"
  },
  "language_info": {
   "codemirror_mode": {
    "name": "ipython",
    "version": 3
   },
   "file_extension": ".py",
   "mimetype": "text/x-python",
   "name": "python",
   "nbconvert_exporter": "python",
   "pygments_lexer": "ipython3",
   "version": "3.11.0"
  }
 },
 "nbformat": 4,
 "nbformat_minor": 5
}
